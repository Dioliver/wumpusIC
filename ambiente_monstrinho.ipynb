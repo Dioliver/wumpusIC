{
 "cells": [
  {
   "cell_type": "code",
   "execution_count": 8,
   "metadata": {},
   "outputs": [
    {
     "name": "stdout",
     "output_type": "stream",
     "text": [
      "[.] [.] [.] [.] [.] [.] [.] [.] [H],\n",
      "[.] [.] [.] [.] [.] [.] [.] [.] [.],\n",
      "[.] [.] [.] [.] [.] [.] [.] [.] [.],\n",
      "[.] [.] [.] [.] [.] [.] [.] [H] [H],\n",
      "[.] [.] [.] [.] [.] [.] [.] [.] [W],\n",
      "[.] [.] [H] [.] [.] [.] [.] [.] [H],\n",
      "[.] [.] [.] [.] [.] [.] [H] [.] [.],\n",
      "[.] [.] [.] [.] [.] [.] [.] [.] [G],\n",
      "[.] [.] [.] [.] [.] [.] [.] [H] [H],\n"
     ]
    }
   ],
   "source": [
    "#!/usr/bin/python\n",
    "import random \n",
    "\n",
    "def imprime(l, matriz):\n",
    "    c = l\n",
    "    for i in range(l):\n",
    "        for j in range(c):\n",
    "            if(j == c - 1):\n",
    "                print(\"[%s],\\n\" %matriz[i][j], end = \"\")\n",
    "            else:\n",
    "                print(\"[%s]\" %matriz[i][j], end = \"\")\n",
    "                print(\" \", end = \"\")\n",
    "    \n",
    "def crie_matriz(n_linhas):\n",
    "    n_colunas = n_linhas  \n",
    "    matriz = [] # lista vazia\n",
    "    for i in range(n_linhas):\n",
    "        # cria a linha i\n",
    "        linha = [] # lista vazia\n",
    "        for j in range(n_colunas):\n",
    "            linha += ['.']\n",
    "        # coloque linha na matriz\n",
    "        matriz += [linha]\n",
    "    return matriz\n",
    "\n",
    "def num_rand(t):\n",
    "    return random.randrange(0, t)\n",
    "\n",
    "def pos_elem(A, ob):\n",
    "    while 1:\n",
    "        n1 = num_rand(len(A))\n",
    "        n2 = num_rand(len(A))\n",
    "        if A[n1][n2] == '.':\n",
    "            A[n1][n2] = ob\n",
    "            break\n",
    "        else:\n",
    "            continue\n",
    "    \n",
    "def gen_sensacoes(A, size):\n",
    "    aux = size\n",
    "    hole = ()\n",
    "    for i in range(size):\n",
    "        for j in range(aux):\n",
    "            if A[size][aux] == 'H':\n",
    "               hole A[aux-1][size] \n",
    "    \n",
    "def main():\n",
    "    tam = 9 #definindo o tamanho para a matriz\n",
    "    A = crie_matriz(tam) #funcao retorna a matriz\n",
    "    pos_elem(A, 'W') #gerando o wumpus\n",
    "    pos_elem(A, 'G') #gerando o ouro\n",
    "  \n",
    "    ###gerando os pocos\n",
    "    for i in range(tam-1):\n",
    "        pos_elem(A, 'H')\n",
    "      \n",
    "    imprime(tam,A) #chama a funcao que imprime a matriz\n",
    "\n",
    "if __name__ == '__main__':\n",
    "        main()"
   ]
  },
  {
   "cell_type": "code",
   "execution_count": 10,
   "metadata": {},
   "outputs": [
    {
     "ename": "AttributeError",
     "evalue": "'tuple' object has no attribute 'append'",
     "output_type": "error",
     "traceback": [
      "\u001b[0;31m---------------------------------------------------------------------------\u001b[0m",
      "\u001b[0;31mAttributeError\u001b[0m                            Traceback (most recent call last)",
      "\u001b[0;32m<ipython-input-10-de8af1d23d28>\u001b[0m in \u001b[0;36m<module>\u001b[0;34m\u001b[0m\n\u001b[1;32m      2\u001b[0m \u001b[0mfeels\u001b[0m \u001b[0;34m=\u001b[0m \u001b[0;34m(\u001b[0m\u001b[0;34m)\u001b[0m\u001b[0;34m\u001b[0m\u001b[0;34m\u001b[0m\u001b[0m\n\u001b[1;32m      3\u001b[0m \u001b[0;34m\u001b[0m\u001b[0m\n\u001b[0;32m----> 4\u001b[0;31m \u001b[0mfeels\u001b[0m\u001b[0;34m.\u001b[0m\u001b[0mappend\u001b[0m\u001b[0;34m(\u001b[0m\u001b[0mmatriz\u001b[0m\u001b[0;34m[\u001b[0m\u001b[0;36m6\u001b[0m\u001b[0;34m]\u001b[0m\u001b[0;34m)\u001b[0m\u001b[0;34m\u001b[0m\u001b[0;34m\u001b[0m\u001b[0m\n\u001b[0m",
      "\u001b[0;31mAttributeError\u001b[0m: 'tuple' object has no attribute 'append'"
     ]
    }
   ],
   "source": [
    "matriz = [0,1,2,3,4,5,6,7,8,9]\n",
    "feels = ()\n",
    "\n",
    "feels.append(matriz[6])\n"
   ]
  }
 ],
 "metadata": {
  "kernelspec": {
   "display_name": "Python 3",
   "language": "python",
   "name": "python3"
  },
  "language_info": {
   "codemirror_mode": {
    "name": "ipython",
    "version": 3
   },
   "file_extension": ".py",
   "mimetype": "text/x-python",
   "name": "python",
   "nbconvert_exporter": "python",
   "pygments_lexer": "ipython3",
   "version": "3.9.1"
  }
 },
 "nbformat": 4,
 "nbformat_minor": 4
}
